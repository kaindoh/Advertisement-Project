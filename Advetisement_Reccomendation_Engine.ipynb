{
  "nbformat": 4,
  "nbformat_minor": 0,
  "metadata": {
    "kernelspec": {
      "display_name": "R",
      "language": "R",
      "name": "ir"
    },
    "language_info": {
      "name": ""
    },
    "colab": {
      "name": "Advetisement_Reccomendation_Engine.ipynb",
      "provenance": [],
      "include_colab_link": true
    }
  },
  "cells": [
    {
      "cell_type": "markdown",
      "metadata": {
        "id": "view-in-github",
        "colab_type": "text"
      },
      "source": [
        "<a href=\"https://colab.research.google.com/github/kaindoh/Advitisement/blob/master/Advetisement_Reccomendation_Engine.ipynb\" target=\"_parent\"><img src=\"https://colab.research.google.com/assets/colab-badge.svg\" alt=\"Open In Colab\"/></a>"
      ]
    },
    {
      "cell_type": "markdown",
      "metadata": {
        "id": "MulQBRXFfVRN",
        "colab_type": "text"
      },
      "source": [
        "# Research Questions\n",
        "\n",
        "Create a prediction model that more accurately predicts whether a user will click an Ad or not.\n",
        "\n",
        "# Problem Statement\n",
        "\n",
        "A Kenyan entrepreneur has created an online cryptography course and would want to advertise it on her blog. She currently targets audiences originating from various countries. In the past, she ran ads to advertise a related course on the same blog and collected data in the process which would be used for anlaysis.\n",
        "\n",
        "# Context\n",
        "We have 1000 rows\n",
        "\n",
        "We have the following columns:\n",
        "\n",
        "  'Daily.Time.Spent.on.Site'\n",
        "  \n",
        "  'Age'\n",
        "  \n",
        "  'Area.Income'\n",
        "  \n",
        "  'Daily.Internet.Usage'\n",
        "  \n",
        "  'Ad.Topic.Line'\n",
        "  \n",
        "  'City'\n",
        "  \n",
        "  'Male'\n",
        "  \n",
        "  'Country'\n",
        "  \n",
        "  'Timestamp'\n",
        "  \n",
        "  'Clicked.on.Ad'\n",
        "\n",
        "# Steps Followed\n",
        "\n",
        "  1.Loading Data\n",
        "  \n",
        "  2.Data Exploration/Cleaning\n",
        "  \n",
        "  3.Model Training\n",
        "  \n",
        "  4.Model Prediction\n",
        "  \n",
        "  5.Model Evaluation\n",
        "  \n",
        "# Metrics of success\n",
        "\n",
        "  Confusionmatrix\n",
        "  \n",
        "  Crosstable\n",
        "  \n",
        "  Accuracy"
      ]
    },
    {
      "cell_type": "markdown",
      "metadata": {
        "id": "IS7ZvOwJfRQp",
        "colab_type": "text"
      },
      "source": [
        "# Importing Libaries"
      ]
    },
    {
      "cell_type": "code",
      "metadata": {
        "id": "c7MN42U2fRQs",
        "colab_type": "code",
        "colab": {}
      },
      "source": [
        "# Importing the relvant libaries\n",
        "\n",
        "library(remotes)\n",
        "library(pacman)\n",
        "library(gmodels)\n",
        "library(outliers)\n",
        "library(tidyverse)\n",
        "library(xgboost)\n",
        "library(corrplot)\n",
        "library(ggplot2)\n",
        "library(caret)\n",
        "library(class)"
      ],
      "execution_count": 0,
      "outputs": []
    },
    {
      "cell_type": "markdown",
      "metadata": {
        "id": "fSJ88VN7fRQw",
        "colab_type": "text"
      },
      "source": [
        "# Loading The Advertising Dataset"
      ]
    },
    {
      "cell_type": "code",
      "metadata": {
        "id": "T8Tu84NCfRQy",
        "colab_type": "code",
        "colab": {},
        "outputId": "d9f9d9dc-ae9a-4eff-f31f-a2ee7ae915fa"
      },
      "source": [
        "# Loading the dataset and displaying the first 6 rows\n",
        "\n",
        "df = read.csv(\"advertising.csv\")\n",
        "head(df) "
      ],
      "execution_count": 0,
      "outputs": [
        {
          "output_type": "display_data",
          "data": {
            "text/html": [
              "<table>\n",
              "<thead><tr><th scope=col>Daily.Time.Spent.on.Site</th><th scope=col>Age</th><th scope=col>Area.Income</th><th scope=col>Daily.Internet.Usage</th><th scope=col>Ad.Topic.Line</th><th scope=col>City</th><th scope=col>Male</th><th scope=col>Country</th><th scope=col>Timestamp</th><th scope=col>Clicked.on.Ad</th></tr></thead>\n",
              "<tbody>\n",
              "\t<tr><td>68.95                                </td><td>35                                   </td><td>61833.90                             </td><td>256.09                               </td><td>Cloned 5thgeneration orchestration   </td><td>Wrightburgh                          </td><td>0                                    </td><td>Tunisia                              </td><td>2016-03-27 00:53:11                  </td><td>0                                    </td></tr>\n",
              "\t<tr><td>80.23                                </td><td>31                                   </td><td>68441.85                             </td><td>193.77                               </td><td>Monitored national standardization   </td><td>West Jodi                            </td><td>1                                    </td><td>Nauru                                </td><td>2016-04-04 01:39:02                  </td><td>0                                    </td></tr>\n",
              "\t<tr><td>69.47                                </td><td>26                                   </td><td>59785.94                             </td><td>236.50                               </td><td>Organic bottom-line service-desk     </td><td>Davidton                             </td><td>0                                    </td><td>San Marino                           </td><td>2016-03-13 20:35:42                  </td><td>0                                    </td></tr>\n",
              "\t<tr><td>74.15                                </td><td>29                                   </td><td>54806.18                             </td><td>245.89                               </td><td>Triple-buffered reciprocal time-frame</td><td>West Terrifurt                       </td><td>1                                    </td><td>Italy                                </td><td>2016-01-10 02:31:19                  </td><td>0                                    </td></tr>\n",
              "\t<tr><td>68.37                                </td><td>35                                   </td><td>73889.99                             </td><td>225.58                               </td><td>Robust logistical utilization        </td><td>South Manuel                         </td><td>0                                    </td><td>Iceland                              </td><td>2016-06-03 03:36:18                  </td><td>0                                    </td></tr>\n",
              "\t<tr><td>59.99                                </td><td>23                                   </td><td>59761.56                             </td><td>226.74                               </td><td>Sharable client-driven software      </td><td>Jamieberg                            </td><td>1                                    </td><td>Norway                               </td><td>2016-05-19 14:30:17                  </td><td>0                                    </td></tr>\n",
              "</tbody>\n",
              "</table>\n"
            ],
            "text/latex": "\\begin{tabular}{r|llllllllll}\n Daily.Time.Spent.on.Site & Age & Area.Income & Daily.Internet.Usage & Ad.Topic.Line & City & Male & Country & Timestamp & Clicked.on.Ad\\\\\n\\hline\n\t 68.95                                 & 35                                    & 61833.90                              & 256.09                                & Cloned 5thgeneration orchestration    & Wrightburgh                           & 0                                     & Tunisia                               & 2016-03-27 00:53:11                   & 0                                    \\\\\n\t 80.23                                 & 31                                    & 68441.85                              & 193.77                                & Monitored national standardization    & West Jodi                             & 1                                     & Nauru                                 & 2016-04-04 01:39:02                   & 0                                    \\\\\n\t 69.47                                 & 26                                    & 59785.94                              & 236.50                                & Organic bottom-line service-desk      & Davidton                              & 0                                     & San Marino                            & 2016-03-13 20:35:42                   & 0                                    \\\\\n\t 74.15                                 & 29                                    & 54806.18                              & 245.89                                & Triple-buffered reciprocal time-frame & West Terrifurt                        & 1                                     & Italy                                 & 2016-01-10 02:31:19                   & 0                                    \\\\\n\t 68.37                                 & 35                                    & 73889.99                              & 225.58                                & Robust logistical utilization         & South Manuel                          & 0                                     & Iceland                               & 2016-06-03 03:36:18                   & 0                                    \\\\\n\t 59.99                                 & 23                                    & 59761.56                              & 226.74                                & Sharable client-driven software       & Jamieberg                             & 1                                     & Norway                                & 2016-05-19 14:30:17                   & 0                                    \\\\\n\\end{tabular}\n",
            "text/markdown": "\n| Daily.Time.Spent.on.Site | Age | Area.Income | Daily.Internet.Usage | Ad.Topic.Line | City | Male | Country | Timestamp | Clicked.on.Ad |\n|---|---|---|---|---|---|---|---|---|---|\n| 68.95                                 | 35                                    | 61833.90                              | 256.09                                | Cloned 5thgeneration orchestration    | Wrightburgh                           | 0                                     | Tunisia                               | 2016-03-27 00:53:11                   | 0                                     |\n| 80.23                                 | 31                                    | 68441.85                              | 193.77                                | Monitored national standardization    | West Jodi                             | 1                                     | Nauru                                 | 2016-04-04 01:39:02                   | 0                                     |\n| 69.47                                 | 26                                    | 59785.94                              | 236.50                                | Organic bottom-line service-desk      | Davidton                              | 0                                     | San Marino                            | 2016-03-13 20:35:42                   | 0                                     |\n| 74.15                                 | 29                                    | 54806.18                              | 245.89                                | Triple-buffered reciprocal time-frame | West Terrifurt                        | 1                                     | Italy                                 | 2016-01-10 02:31:19                   | 0                                     |\n| 68.37                                 | 35                                    | 73889.99                              | 225.58                                | Robust logistical utilization         | South Manuel                          | 0                                     | Iceland                               | 2016-06-03 03:36:18                   | 0                                     |\n| 59.99                                 | 23                                    | 59761.56                              | 226.74                                | Sharable client-driven software       | Jamieberg                             | 1                                     | Norway                                | 2016-05-19 14:30:17                   | 0                                     |\n\n",
            "text/plain": [
              "  Daily.Time.Spent.on.Site Age Area.Income Daily.Internet.Usage\n",
              "1 68.95                    35  61833.90    256.09              \n",
              "2 80.23                    31  68441.85    193.77              \n",
              "3 69.47                    26  59785.94    236.50              \n",
              "4 74.15                    29  54806.18    245.89              \n",
              "5 68.37                    35  73889.99    225.58              \n",
              "6 59.99                    23  59761.56    226.74              \n",
              "  Ad.Topic.Line                         City           Male Country   \n",
              "1 Cloned 5thgeneration orchestration    Wrightburgh    0    Tunisia   \n",
              "2 Monitored national standardization    West Jodi      1    Nauru     \n",
              "3 Organic bottom-line service-desk      Davidton       0    San Marino\n",
              "4 Triple-buffered reciprocal time-frame West Terrifurt 1    Italy     \n",
              "5 Robust logistical utilization         South Manuel   0    Iceland   \n",
              "6 Sharable client-driven software       Jamieberg      1    Norway    \n",
              "  Timestamp           Clicked.on.Ad\n",
              "1 2016-03-27 00:53:11 0            \n",
              "2 2016-04-04 01:39:02 0            \n",
              "3 2016-03-13 20:35:42 0            \n",
              "4 2016-01-10 02:31:19 0            \n",
              "5 2016-06-03 03:36:18 0            \n",
              "6 2016-05-19 14:30:17 0            "
            ]
          },
          "metadata": {
            "tags": []
          }
        }
      ]
    },
    {
      "cell_type": "markdown",
      "metadata": {
        "id": "YT-xK7WTfRQ5",
        "colab_type": "text"
      },
      "source": [
        "# Getting the Information of the dataset"
      ]
    },
    {
      "cell_type": "code",
      "metadata": {
        "id": "UU2w11MSfRQ9",
        "colab_type": "code",
        "colab": {},
        "outputId": "81bf2bf4-cb6d-46bd-f9c2-225ee3ce6c54"
      },
      "source": [
        "# Getting the column names\n",
        "\n",
        "attributes(df)$names"
      ],
      "execution_count": 0,
      "outputs": [
        {
          "output_type": "display_data",
          "data": {
            "text/html": [
              "<ol class=list-inline>\n",
              "\t<li>'Daily.Time.Spent.on.Site'</li>\n",
              "\t<li>'Age'</li>\n",
              "\t<li>'Area.Income'</li>\n",
              "\t<li>'Daily.Internet.Usage'</li>\n",
              "\t<li>'Ad.Topic.Line'</li>\n",
              "\t<li>'City'</li>\n",
              "\t<li>'Male'</li>\n",
              "\t<li>'Country'</li>\n",
              "\t<li>'Timestamp'</li>\n",
              "\t<li>'Clicked.on.Ad'</li>\n",
              "</ol>\n"
            ],
            "text/latex": "\\begin{enumerate*}\n\\item 'Daily.Time.Spent.on.Site'\n\\item 'Age'\n\\item 'Area.Income'\n\\item 'Daily.Internet.Usage'\n\\item 'Ad.Topic.Line'\n\\item 'City'\n\\item 'Male'\n\\item 'Country'\n\\item 'Timestamp'\n\\item 'Clicked.on.Ad'\n\\end{enumerate*}\n",
            "text/markdown": "1. 'Daily.Time.Spent.on.Site'\n2. 'Age'\n3. 'Area.Income'\n4. 'Daily.Internet.Usage'\n5. 'Ad.Topic.Line'\n6. 'City'\n7. 'Male'\n8. 'Country'\n9. 'Timestamp'\n10. 'Clicked.on.Ad'\n\n\n",
            "text/plain": [
              " [1] \"Daily.Time.Spent.on.Site\" \"Age\"                     \n",
              " [3] \"Area.Income\"              \"Daily.Internet.Usage\"    \n",
              " [5] \"Ad.Topic.Line\"            \"City\"                    \n",
              " [7] \"Male\"                     \"Country\"                 \n",
              " [9] \"Timestamp\"                \"Clicked.on.Ad\"           "
            ]
          },
          "metadata": {
            "tags": []
          }
        }
      ]
    },
    {
      "cell_type": "code",
      "metadata": {
        "id": "83RVKqSAfRRA",
        "colab_type": "code",
        "colab": {},
        "outputId": "d330233b-98e8-46a2-b636-469d136df067"
      },
      "source": [
        "# Getting the class ofthe data\n",
        "\n",
        "attributes(df)$class"
      ],
      "execution_count": 0,
      "outputs": [
        {
          "output_type": "display_data",
          "data": {
            "text/html": [
              "'data.frame'"
            ],
            "text/latex": "'data.frame'",
            "text/markdown": "'data.frame'",
            "text/plain": [
              "[1] \"data.frame\""
            ]
          },
          "metadata": {
            "tags": []
          }
        }
      ]
    },
    {
      "cell_type": "code",
      "metadata": {
        "id": "RfpNjuf4fRRD",
        "colab_type": "code",
        "colab": {},
        "outputId": "1f8a2861-0180-4a59-f018-b4efac9bf41e"
      },
      "source": [
        "# Getting the data type of the individual column\n",
        "\n",
        "glimpse(df)"
      ],
      "execution_count": 0,
      "outputs": [
        {
          "output_type": "stream",
          "text": [
            "Observations: 1,000\n",
            "Variables: 10\n",
            "$ Daily.Time.Spent.on.Site <dbl> 68.95, 80.23, 69.47, 74.15, 68.37, 59.99, ...\n",
            "$ Age                      <int> 35, 31, 26, 29, 35, 23, 33, 48, 30, 20, 49...\n",
            "$ Area.Income              <dbl> 61833.90, 68441.85, 59785.94, 54806.18, 73...\n",
            "$ Daily.Internet.Usage     <dbl> 256.09, 193.77, 236.50, 245.89, 225.58, 22...\n",
            "$ Ad.Topic.Line            <fct> Cloned 5thgeneration orchestration, Monito...\n",
            "$ City                     <fct> Wrightburgh, West Jodi, Davidton, West Ter...\n",
            "$ Male                     <int> 0, 1, 0, 1, 0, 1, 0, 1, 1, 1, 0, 1, 1, 0, ...\n",
            "$ Country                  <fct> Tunisia, Nauru, San Marino, Italy, Iceland...\n",
            "$ Timestamp                <fct> 2016-03-27 00:53:11, 2016-04-04 01:39:02, ...\n",
            "$ Clicked.on.Ad            <int> 0, 0, 0, 0, 0, 0, 0, 1, 0, 0, 1, 0, 1, 0, ...\n"
          ],
          "name": "stdout"
        }
      ]
    },
    {
      "cell_type": "markdown",
      "metadata": {
        "id": "cePHC78mjkms",
        "colab_type": "text"
      },
      "source": [
        "it gives the data types"
      ]
    },
    {
      "cell_type": "code",
      "metadata": {
        "id": "NWsEpn5JfRRH",
        "colab_type": "code",
        "colab": {},
        "outputId": "6c31c94f-e57d-4f6d-eb6d-ee3b9bd4d5f0"
      },
      "source": [
        "# Checking the number of unique columns\n",
        "\n",
        "cat.columns <- c(\"Ad.Topic.Line\",\"City\",\"Country\",\"Timestamp\")\n",
        "no <- function(x) {  \n",
        "    nlevels(x)\n",
        "  }\n",
        "  \n",
        "number <- sapply(select(df, cat.columns), no)\n",
        "number"
      ],
      "execution_count": 0,
      "outputs": [
        {
          "output_type": "display_data",
          "data": {
            "text/html": [
              "<dl class=dl-horizontal>\n",
              "\t<dt>Ad.Topic.Line</dt>\n",
              "\t\t<dd>1000</dd>\n",
              "\t<dt>City</dt>\n",
              "\t\t<dd>969</dd>\n",
              "\t<dt>Country</dt>\n",
              "\t\t<dd>237</dd>\n",
              "\t<dt>Timestamp</dt>\n",
              "\t\t<dd>1000</dd>\n",
              "</dl>\n"
            ],
            "text/latex": "\\begin{description*}\n\\item[Ad.Topic.Line] 1000\n\\item[City] 969\n\\item[Country] 237\n\\item[Timestamp] 1000\n\\end{description*}\n",
            "text/markdown": "Ad.Topic.Line\n:   1000City\n:   969Country\n:   237Timestamp\n:   1000\n\n",
            "text/plain": [
              "Ad.Topic.Line          City       Country     Timestamp \n",
              "         1000           969           237          1000 "
            ]
          },
          "metadata": {
            "tags": []
          }
        }
      ]
    },
    {
      "cell_type": "markdown",
      "metadata": {
        "id": "XIwQv1Ksjvoj",
        "colab_type": "text"
      },
      "source": [
        "This indicates that most categoric columns are unique  except country"
      ]
    },
    {
      "cell_type": "code",
      "metadata": {
        "id": "aKJwATWRfRRL",
        "colab_type": "code",
        "colab": {},
        "outputId": "88adc868-099a-4eaf-9ac0-99e234c28b2d"
      },
      "source": [
        "# This the shape of the dataset\n",
        "\n",
        "dim(df)"
      ],
      "execution_count": 0,
      "outputs": [
        {
          "output_type": "display_data",
          "data": {
            "text/html": [
              "<ol class=list-inline>\n",
              "\t<li>1000</li>\n",
              "\t<li>10</li>\n",
              "</ol>\n"
            ],
            "text/latex": "\\begin{enumerate*}\n\\item 1000\n\\item 10\n\\end{enumerate*}\n",
            "text/markdown": "1. 1000\n2. 10\n\n\n",
            "text/plain": [
              "[1] 1000   10"
            ]
          },
          "metadata": {
            "tags": []
          }
        }
      ]
    },
    {
      "cell_type": "markdown",
      "metadata": {
        "id": "9Qu0opBGfRRS",
        "colab_type": "text"
      },
      "source": [
        "This means we have 1000  rows and 10 columns"
      ]
    },
    {
      "cell_type": "code",
      "metadata": {
        "id": "yC8UggNqfRRT",
        "colab_type": "code",
        "colab": {},
        "outputId": "89ce4557-5ee2-4379-c288-54de3ec64a26"
      },
      "source": [
        "# Summary of numeric columns\n",
        "\n",
        "df %>%\n",
        "  select_if(is.numeric) %>%\n",
        "  map(~summary(.))"
      ],
      "execution_count": 0,
      "outputs": [
        {
          "output_type": "display_data",
          "data": {
            "text/plain": [
              "$Daily.Time.Spent.on.Site\n",
              "   Min. 1st Qu.  Median    Mean 3rd Qu.    Max. \n",
              "  32.60   51.36   68.22   65.00   78.55   91.43 \n",
              "\n",
              "$Age\n",
              "   Min. 1st Qu.  Median    Mean 3rd Qu.    Max. \n",
              "  19.00   29.00   35.00   36.01   42.00   61.00 \n",
              "\n",
              "$Area.Income\n",
              "   Min. 1st Qu.  Median    Mean 3rd Qu.    Max. \n",
              "  13996   47032   57012   55000   65471   79485 \n",
              "\n",
              "$Daily.Internet.Usage\n",
              "   Min. 1st Qu.  Median    Mean 3rd Qu.    Max. \n",
              "  104.8   138.8   183.1   180.0   218.8   270.0 \n",
              "\n",
              "$Male\n",
              "   Min. 1st Qu.  Median    Mean 3rd Qu.    Max. \n",
              "  0.000   0.000   0.000   0.481   1.000   1.000 \n",
              "\n",
              "$Clicked.on.Ad\n",
              "   Min. 1st Qu.  Median    Mean 3rd Qu.    Max. \n",
              "    0.0     0.0     0.5     0.5     1.0     1.0 \n"
            ]
          },
          "metadata": {
            "tags": []
          }
        }
      ]
    },
    {
      "cell_type": "markdown",
      "metadata": {
        "id": "vcbva1xFkKCQ",
        "colab_type": "text"
      },
      "source": [
        "This the statistical summary of the numeric columns"
      ]
    },
    {
      "cell_type": "markdown",
      "metadata": {
        "id": "dZvVyr9RfRRV",
        "colab_type": "text"
      },
      "source": [
        "# Data Cleaning"
      ]
    },
    {
      "cell_type": "code",
      "metadata": {
        "id": "5H4mizSLfRRW",
        "colab_type": "code",
        "colab": {},
        "outputId": "092735f8-bd42-4fe5-cad3-3e5e62f04dd7"
      },
      "source": [
        "# Changing the names of the columns to lower\n",
        "\n",
        "colnames(df) <- tolower(colnames(df))\n",
        "colnames(df)"
      ],
      "execution_count": 0,
      "outputs": [
        {
          "output_type": "display_data",
          "data": {
            "text/html": [
              "<ol class=list-inline>\n",
              "\t<li>'daily.time.spent.on.site'</li>\n",
              "\t<li>'age'</li>\n",
              "\t<li>'area.income'</li>\n",
              "\t<li>'daily.internet.usage'</li>\n",
              "\t<li>'ad.topic.line'</li>\n",
              "\t<li>'city'</li>\n",
              "\t<li>'male'</li>\n",
              "\t<li>'country'</li>\n",
              "\t<li>'timestamp'</li>\n",
              "\t<li>'clicked.on.ad'</li>\n",
              "</ol>\n"
            ],
            "text/latex": "\\begin{enumerate*}\n\\item 'daily.time.spent.on.site'\n\\item 'age'\n\\item 'area.income'\n\\item 'daily.internet.usage'\n\\item 'ad.topic.line'\n\\item 'city'\n\\item 'male'\n\\item 'country'\n\\item 'timestamp'\n\\item 'clicked.on.ad'\n\\end{enumerate*}\n",
            "text/markdown": "1. 'daily.time.spent.on.site'\n2. 'age'\n3. 'area.income'\n4. 'daily.internet.usage'\n5. 'ad.topic.line'\n6. 'city'\n7. 'male'\n8. 'country'\n9. 'timestamp'\n10. 'clicked.on.ad'\n\n\n",
            "text/plain": [
              " [1] \"daily.time.spent.on.site\" \"age\"                     \n",
              " [3] \"area.income\"              \"daily.internet.usage\"    \n",
              " [5] \"ad.topic.line\"            \"city\"                    \n",
              " [7] \"male\"                     \"country\"                 \n",
              " [9] \"timestamp\"                \"clicked.on.ad\"           "
            ]
          },
          "metadata": {
            "tags": []
          }
        }
      ]
    },
    {
      "cell_type": "code",
      "metadata": {
        "id": "9KCl0esNfRRY",
        "colab_type": "code",
        "colab": {},
        "outputId": "a9822937-73cb-4fd6-d044-d151821f117a"
      },
      "source": [
        "# Checking for Missing values\n",
        "\n",
        "colSums(is.na(df))"
      ],
      "execution_count": 0,
      "outputs": [
        {
          "output_type": "display_data",
          "data": {
            "text/html": [
              "<dl class=dl-horizontal>\n",
              "\t<dt>daily.time.spent.on.site</dt>\n",
              "\t\t<dd>0</dd>\n",
              "\t<dt>age</dt>\n",
              "\t\t<dd>0</dd>\n",
              "\t<dt>area.income</dt>\n",
              "\t\t<dd>0</dd>\n",
              "\t<dt>daily.internet.usage</dt>\n",
              "\t\t<dd>0</dd>\n",
              "\t<dt>ad.topic.line</dt>\n",
              "\t\t<dd>0</dd>\n",
              "\t<dt>city</dt>\n",
              "\t\t<dd>0</dd>\n",
              "\t<dt>male</dt>\n",
              "\t\t<dd>0</dd>\n",
              "\t<dt>country</dt>\n",
              "\t\t<dd>0</dd>\n",
              "\t<dt>timestamp</dt>\n",
              "\t\t<dd>0</dd>\n",
              "\t<dt>clicked.on.ad</dt>\n",
              "\t\t<dd>0</dd>\n",
              "</dl>\n"
            ],
            "text/latex": "\\begin{description*}\n\\item[daily.time.spent.on.site] 0\n\\item[age] 0\n\\item[area.income] 0\n\\item[daily.internet.usage] 0\n\\item[ad.topic.line] 0\n\\item[city] 0\n\\item[male] 0\n\\item[country] 0\n\\item[timestamp] 0\n\\item[clicked.on.ad] 0\n\\end{description*}\n",
            "text/markdown": "daily.time.spent.on.site\n:   0age\n:   0area.income\n:   0daily.internet.usage\n:   0ad.topic.line\n:   0city\n:   0male\n:   0country\n:   0timestamp\n:   0clicked.on.ad\n:   0\n\n",
            "text/plain": [
              "daily.time.spent.on.site                      age              area.income \n",
              "                       0                        0                        0 \n",
              "    daily.internet.usage            ad.topic.line                     city \n",
              "                       0                        0                        0 \n",
              "                    male                  country                timestamp \n",
              "                       0                        0                        0 \n",
              "           clicked.on.ad \n",
              "                       0 "
            ]
          },
          "metadata": {
            "tags": []
          }
        }
      ]
    },
    {
      "cell_type": "markdown",
      "metadata": {
        "id": "hHVDl7cAfRRc",
        "colab_type": "text"
      },
      "source": [
        "There are no null values"
      ]
    },
    {
      "cell_type": "code",
      "metadata": {
        "id": "0hL54lsMfRRc",
        "colab_type": "code",
        "colab": {},
        "outputId": "adab8493-a54b-4a5d-8090-6a363cc959e8"
      },
      "source": [
        "# Checking for duplicates\n",
        "\n",
        "anyDuplicated(df)"
      ],
      "execution_count": 0,
      "outputs": [
        {
          "output_type": "display_data",
          "data": {
            "text/html": [
              "0"
            ],
            "text/latex": "0",
            "text/markdown": "0",
            "text/plain": [
              "[1] 0"
            ]
          },
          "metadata": {
            "tags": []
          }
        }
      ]
    },
    {
      "cell_type": "markdown",
      "metadata": {
        "id": "Rgg9-H32fRRf",
        "colab_type": "text"
      },
      "source": [
        "There are no duplicates"
      ]
    },
    {
      "cell_type": "code",
      "metadata": {
        "id": "YvRowAh8fRRf",
        "colab_type": "code",
        "colab": {},
        "outputId": "1bebd466-3aef-4a28-af99-662101b3469f"
      },
      "source": [
        "# Checking outliers using boxplots on daily time spent on site\n",
        "boxplot(df$daily.time.spent.on.site,main = \"Boxplot on daily time spent \")\n"
      ],
      "execution_count": 0,
      "outputs": [
        {
          "output_type": "display_data",
          "data": {
            "image/png": "[encoded data removed]",
            "text/plain": [
              "Plot with title \"Boxplot on daily time spent \""
            ]
          },
          "metadata": {
            "tags": []
          }
        }
      ]
    },
    {
      "cell_type": "markdown",
      "metadata": {
        "id": "VZKu9q7Fka0c",
        "colab_type": "text"
      },
      "source": [
        "There are no outliers on daily time spent on site"
      ]
    },
    {
      "cell_type": "code",
      "metadata": {
        "id": "DhDmFScLfRRh",
        "colab_type": "code",
        "colab": {},
        "outputId": "f3a148d1-13d9-4353-f805-9d7da44f1c6a"
      },
      "source": [
        "# Checking outliers using boxplots on area income\n",
        "boxplot(df$area.income,main = \"Boxplot on area income \")"
      ],
      "execution_count": 0,
      "outputs": [
        {
          "output_type": "display_data",
          "data": {
            "image/png": "[encoded data removed]",
            "text/plain": [
              "Plot with title \"Boxplot on area income \""
            ]
          },
          "metadata": {
            "tags": []
          }
        }
      ]
    },
    {
      "cell_type": "markdown",
      "metadata": {
        "id": "SGcs2iMEknBg",
        "colab_type": "text"
      },
      "source": [
        "There are few outliers on area income"
      ]
    },
    {
      "cell_type": "code",
      "metadata": {
        "id": "EfJXZYpofRRm",
        "colab_type": "code",
        "colab": {},
        "outputId": "88604c2f-48c8-436f-b8f4-671f59e96c22"
      },
      "source": [
        "# Plotting boxplots on  Daily Internet Usage\n",
        "boxplot(df$daily.internet.usage,main = \"Boxplot on Daily Internet Usage \")"
      ],
      "execution_count": 0,
      "outputs": [
        {
          "output_type": "display_data",
          "data": {
            "image/png": "[encoded data removed]",
            "text/plain": [
              "Plot with title \"Boxplot on Daily Internet Usage \""
            ]
          },
          "metadata": {
            "tags": []
          }
        }
      ]
    },
    {
      "cell_type": "markdown",
      "metadata": {
        "id": "GP4OJxqdk0xa",
        "colab_type": "text"
      },
      "source": [
        "There are no outliers on  Daily Internet Usage"
      ]
    },
    {
      "cell_type": "code",
      "metadata": {
        "id": "nFMgCEZlfRRp",
        "colab_type": "code",
        "colab": {},
        "outputId": "41f08193-e5eb-4f7e-fe11-2830f71e7f80"
      },
      "source": [
        "# Plotting boxplots on age\n",
        "boxplot(df$age,main = \"Boxplot on Age \")\n"
      ],
      "execution_count": 0,
      "outputs": [
        {
          "output_type": "display_data",
          "data": {
            "image/png": "[encoded data removed]",
            "text/plain": [
              "Plot with title \"Boxplot on Age \""
            ]
          },
          "metadata": {
            "tags": []
          }
        }
      ]
    },
    {
      "cell_type": "markdown",
      "metadata": {
        "id": "H6anQdl8k7cA",
        "colab_type": "text"
      },
      "source": [
        "There are no outliers on age"
      ]
    },
    {
      "cell_type": "markdown",
      "metadata": {
        "id": "rn3iCk9tfRRr",
        "colab_type": "text"
      },
      "source": [
        "# Explorative Data Analysis"
      ]
    },
    {
      "cell_type": "code",
      "metadata": {
        "id": "a9R6Usg1fRRs",
        "colab_type": "code",
        "colab": {},
        "outputId": "a5b77d45-c2e5-4615-8bbb-5acb64c21655"
      },
      "source": [
        "# Plotting barplots of the target column\n",
        "\n",
        "counts <- table(df$clicked.on.ad)\n",
        "barplot(counts, main=\"Target Variable Distribution\",xlab=\"Target variable\",ylab = \"Frequency\",col=\"gold\")"
      ],
      "execution_count": 0,
      "outputs": [
        {
          "output_type": "display_data",
          "data": {
            "image/png": "[encoded data removed]",
            "text/plain": [
              "Plot with title \"Target Variable Distribution\""
            ]
          },
          "metadata": {
            "tags": []
          }
        }
      ]
    },
    {
      "cell_type": "markdown",
      "metadata": {
        "id": "xmpf2n8OlDXN",
        "colab_type": "text"
      },
      "source": [
        "The dataset is balanced"
      ]
    },
    {
      "cell_type": "code",
      "metadata": {
        "id": "S58goJuyfRRu",
        "colab_type": "code",
        "colab": {},
        "outputId": "4c4fbeb2-7b73-43d9-ab29-158b8e3461f8"
      },
      "source": [
        "# Plotting barplots of the Genser column\n",
        "\n",
        "counts <- table(df$male)\n",
        "barplot(counts, main=\"Gender Distribution\",xlab=\"Target variable\",ylab = \"Frequency\",col=\"gold\")"
      ],
      "execution_count": 0,
      "outputs": [
        {
          "output_type": "display_data",
          "data": {
            "image/png": "[encoded data removed]",
            "text/plain": [
              "Plot with title \"Gender Distribution\""
            ]
          },
          "metadata": {
            "tags": []
          }
        }
      ]
    },
    {
      "cell_type": "markdown",
      "metadata": {
        "id": "sQdOHfGhfRRw",
        "colab_type": "text"
      },
      "source": [
        "The gender of people using the site is almost balance but females are abit higher"
      ]
    },
    {
      "cell_type": "code",
      "metadata": {
        "id": "lXp84ILsfRRx",
        "colab_type": "code",
        "colab": {},
        "outputId": "436802ce-600a-40d1-df5d-249f75e19874"
      },
      "source": [
        "# Getting the correlation between the numeric variables\n",
        "\n",
        "corr_df <- cor(select(df,c(\"daily.time.spent.on.site\" ,\"age\" ,\"area.income\",\"clicked.on.ad\")))\n",
        "corr_df"
      ],
      "execution_count": 0,
      "outputs": [
        {
          "output_type": "display_data",
          "data": {
            "text/html": [
              "<table>\n",
              "<thead><tr><th></th><th scope=col>daily.time.spent.on.site</th><th scope=col>age</th><th scope=col>area.income</th><th scope=col>clicked.on.ad</th></tr></thead>\n",
              "<tbody>\n",
              "\t<tr><th scope=row>daily.time.spent.on.site</th><td> 1.0000000</td><td>-0.3315133</td><td> 0.3109544</td><td>-0.7481166</td></tr>\n",
              "\t<tr><th scope=row>age</th><td>-0.3315133</td><td> 1.0000000</td><td>-0.1826050</td><td> 0.4925313</td></tr>\n",
              "\t<tr><th scope=row>area.income</th><td> 0.3109544</td><td>-0.1826050</td><td> 1.0000000</td><td>-0.4762546</td></tr>\n",
              "\t<tr><th scope=row>clicked.on.ad</th><td>-0.7481166</td><td> 0.4925313</td><td>-0.4762546</td><td> 1.0000000</td></tr>\n",
              "</tbody>\n",
              "</table>\n"
            ],
            "text/latex": "\\begin{tabular}{r|llll}\n  & daily.time.spent.on.site & age & area.income & clicked.on.ad\\\\\n\\hline\n\tdaily.time.spent.on.site &  1.0000000 & -0.3315133 &  0.3109544 & -0.7481166\\\\\n\tage & -0.3315133 &  1.0000000 & -0.1826050 &  0.4925313\\\\\n\tarea.income &  0.3109544 & -0.1826050 &  1.0000000 & -0.4762546\\\\\n\tclicked.on.ad & -0.7481166 &  0.4925313 & -0.4762546 &  1.0000000\\\\\n\\end{tabular}\n",
            "text/markdown": "\n| <!--/--> | daily.time.spent.on.site | age | area.income | clicked.on.ad |\n|---|---|---|---|---|\n| daily.time.spent.on.site |  1.0000000 | -0.3315133 |  0.3109544 | -0.7481166 |\n| age | -0.3315133 |  1.0000000 | -0.1826050 |  0.4925313 |\n| area.income |  0.3109544 | -0.1826050 |  1.0000000 | -0.4762546 |\n| clicked.on.ad | -0.7481166 |  0.4925313 | -0.4762546 |  1.0000000 |\n\n",
            "text/plain": [
              "                         daily.time.spent.on.site age        area.income\n",
              "daily.time.spent.on.site  1.0000000               -0.3315133  0.3109544 \n",
              "age                      -0.3315133                1.0000000 -0.1826050 \n",
              "area.income               0.3109544               -0.1826050  1.0000000 \n",
              "clicked.on.ad            -0.7481166                0.4925313 -0.4762546 \n",
              "                         clicked.on.ad\n",
              "daily.time.spent.on.site -0.7481166   \n",
              "age                       0.4925313   \n",
              "area.income              -0.4762546   \n",
              "clicked.on.ad             1.0000000   "
            ]
          },
          "metadata": {
            "tags": []
          }
        }
      ]
    },
    {
      "cell_type": "code",
      "metadata": {
        "id": "s4qGubnjfRR4",
        "colab_type": "code",
        "colab": {},
        "outputId": "50b8ee3a-5fd7-482a-8cc7-ff57d0411bd9"
      },
      "source": [
        "# Showing correlation using correlation plot\n",
        "\n",
        "corrplot(corr_df, type = \"upper\", order = \"hclust\", \n",
        "         tl.col = \"black\", tl.srt = 45,main=\"Correlation plots of numerics\")"
      ],
      "execution_count": 0,
      "outputs": [
        {
          "output_type": "display_data",
          "data": {
            "image/png": "[encoded data removed]",
            "text/plain": [
              "Plot with title \"Correlation plots of numerics\""
            ]
          },
          "metadata": {
            "tags": []
          }
        }
      ]
    },
    {
      "cell_type": "code",
      "metadata": {
        "id": "8km7smbbfRSG",
        "colab_type": "code",
        "colab": {}
      },
      "source": [
        "library(ggcorrplot)"
      ],
      "execution_count": 0,
      "outputs": []
    },
    {
      "cell_type": "code",
      "metadata": {
        "id": "Fab9N9JIfRSH",
        "colab_type": "code",
        "colab": {},
        "outputId": "d2088e52-7337-4e6c-cc1f-1ec2317a0e8d"
      },
      "source": [
        "# Plotting heatmap to get more correlation\n",
        "\n",
        "col<- colorRampPalette(c(\"blue\", \"white\", \"red\"))(20)\n",
        "ggcorrplot(round(corr_df, 2) ,lab = T)\n"
      ],
      "execution_count": 0,
      "outputs": [
        {
          "output_type": "display_data",
          "data": {
            "image/png": "[encoded data removed]",
            "text/plain": [
              "plot without title"
            ]
          },
          "metadata": {
            "tags": []
          }
        }
      ]
    },
    {
      "cell_type": "markdown",
      "metadata": {
        "id": "bueMbSezlTOr",
        "colab_type": "text"
      },
      "source": [
        "There is essentially high correlation between daily time spent and click on ad"
      ]
    },
    {
      "cell_type": "code",
      "metadata": {
        "id": "ixSjqJM4fRSK",
        "colab_type": "code",
        "colab": {},
        "outputId": "eae4387b-bce4-43bc-c339-033ac8533cc6"
      },
      "source": [
        "# Plotting a scatter plot between variables\n",
        "\n",
        "plot(df$area.income, df$age, main=\"Scatterplot Age VS Daily Time spent\",\n",
        "   xlab=\"Age \", ylab=\"Daily Time Spent \", pch=19)"
      ],
      "execution_count": 0,
      "outputs": [
        {
          "output_type": "display_data",
          "data": {
            "image/png": "[encoded data removed]",
            "text/plain": [
              "Plot with title \"Scatterplot Age VS Daily Time spent\""
            ]
          },
          "metadata": {
            "tags": []
          }
        }
      ]
    },
    {
      "cell_type": "markdown",
      "metadata": {
        "id": "L0cU2lovfRSN",
        "colab_type": "text"
      },
      "source": [
        "There is no linear relationship between age and daily time spent on site"
      ]
    },
    {
      "cell_type": "code",
      "metadata": {
        "id": "hMYPT5z0fRSP",
        "colab_type": "code",
        "colab": {},
        "outputId": "cac4d974-41df-497b-f9d7-c9a5b746848f"
      },
      "source": [
        "# Plotting a histogram of daily Time Spent\n",
        "\n",
        "qplot(df$daily.time.spent.on.site,main = \"Daily Time Spent Distribution\",geom=\"histogram\",\n",
        "    xlab = \"Daily Time Spent\",ylab = \"Frequency Of TimeSpent\",binwidth = 5,fill=I(\"blue\"),col=I(\"red\"), alpha=I(.2),) "
      ],
      "execution_count": 0,
      "outputs": [
        {
          "output_type": "display_data",
          "data": {
            "image/png": "[encoded data removed]",
            "text/plain": [
              "plot without title"
            ]
          },
          "metadata": {
            "tags": []
          }
        }
      ]
    },
    {
      "cell_type": "markdown",
      "metadata": {
        "id": "8jmZP0EmfRSV",
        "colab_type": "text"
      },
      "source": [
        "If we assume time spent is in minutes,we have the highest at 80 min which is roughly 1 hr an half"
      ]
    },
    {
      "cell_type": "code",
      "metadata": {
        "id": "XWV0vVwofRSV",
        "colab_type": "code",
        "colab": {},
        "outputId": "e2068d93-f0d6-4c24-e3f3-bf94a8addd94"
      },
      "source": [
        "# Plotting a histogram of daily internet Used\n",
        "\n",
        "qplot(df$daily.internet.usage,main = \"Daily Internet Usage Distribution\",geom=\"histogram\",\n",
        "    xlab = \"Daily Internet Usage\",ylab = \"Frequency Of Internet Usage\",binwidth = 5,fill=I(\"blue\"),col=I(\"red\"), alpha=I(.2),) "
      ],
      "execution_count": 0,
      "outputs": [
        {
          "output_type": "display_data",
          "data": {
            "image/png": "[encoded data removed]",
            "text/plain": [
              "plot without title"
            ]
          },
          "metadata": {
            "tags": []
          }
        }
      ]
    },
    {
      "cell_type": "markdown",
      "metadata": {
        "id": "fSPNubLsfRSX",
        "colab_type": "text"
      },
      "source": [
        "Most people uses between a range of 100 to 250MBs"
      ]
    },
    {
      "cell_type": "markdown",
      "metadata": {
        "id": "boi6hoNxfRSY",
        "colab_type": "text"
      },
      "source": [
        "# Modelling"
      ]
    },
    {
      "cell_type": "code",
      "metadata": {
        "id": "OJ3gbEnNfRSY",
        "colab_type": "code",
        "colab": {},
        "outputId": "58021b67-9805-4cce-bfe0-c1db2f230091"
      },
      "source": [
        "# Selecting the columns that will be used for modelling\n",
        "\n",
        "df1 <- select(df,c(\"daily.time.spent.on.site\" ,\"age\" ,\"area.income\",\"male\",\"clicked.on.ad\"))\n",
        "head(df1)"
      ],
      "execution_count": 0,
      "outputs": [
        {
          "output_type": "display_data",
          "data": {
            "text/html": [
              "<table>\n",
              "<thead><tr><th scope=col>daily.time.spent.on.site</th><th scope=col>age</th><th scope=col>area.income</th><th scope=col>male</th><th scope=col>clicked.on.ad</th></tr></thead>\n",
              "<tbody>\n",
              "\t<tr><td>68.95   </td><td>35      </td><td>61833.90</td><td>0       </td><td>0       </td></tr>\n",
              "\t<tr><td>80.23   </td><td>31      </td><td>68441.85</td><td>1       </td><td>0       </td></tr>\n",
              "\t<tr><td>69.47   </td><td>26      </td><td>59785.94</td><td>0       </td><td>0       </td></tr>\n",
              "\t<tr><td>74.15   </td><td>29      </td><td>54806.18</td><td>1       </td><td>0       </td></tr>\n",
              "\t<tr><td>68.37   </td><td>35      </td><td>73889.99</td><td>0       </td><td>0       </td></tr>\n",
              "\t<tr><td>59.99   </td><td>23      </td><td>59761.56</td><td>1       </td><td>0       </td></tr>\n",
              "</tbody>\n",
              "</table>\n"
            ],
            "text/latex": "\\begin{tabular}{r|lllll}\n daily.time.spent.on.site & age & area.income & male & clicked.on.ad\\\\\n\\hline\n\t 68.95    & 35       & 61833.90 & 0        & 0       \\\\\n\t 80.23    & 31       & 68441.85 & 1        & 0       \\\\\n\t 69.47    & 26       & 59785.94 & 0        & 0       \\\\\n\t 74.15    & 29       & 54806.18 & 1        & 0       \\\\\n\t 68.37    & 35       & 73889.99 & 0        & 0       \\\\\n\t 59.99    & 23       & 59761.56 & 1        & 0       \\\\\n\\end{tabular}\n",
            "text/markdown": "\n| daily.time.spent.on.site | age | area.income | male | clicked.on.ad |\n|---|---|---|---|---|\n| 68.95    | 35       | 61833.90 | 0        | 0        |\n| 80.23    | 31       | 68441.85 | 1        | 0        |\n| 69.47    | 26       | 59785.94 | 0        | 0        |\n| 74.15    | 29       | 54806.18 | 1        | 0        |\n| 68.37    | 35       | 73889.99 | 0        | 0        |\n| 59.99    | 23       | 59761.56 | 1        | 0        |\n\n",
            "text/plain": [
              "  daily.time.spent.on.site age area.income male clicked.on.ad\n",
              "1 68.95                    35  61833.90    0    0            \n",
              "2 80.23                    31  68441.85    1    0            \n",
              "3 69.47                    26  59785.94    0    0            \n",
              "4 74.15                    29  54806.18    1    0            \n",
              "5 68.37                    35  73889.99    0    0            \n",
              "6 59.99                    23  59761.56    1    0            "
            ]
          },
          "metadata": {
            "tags": []
          }
        }
      ]
    },
    {
      "cell_type": "markdown",
      "metadata": {
        "id": "_Gq2_YqLmQSM",
        "colab_type": "text"
      },
      "source": [
        "d.topic.line'\n",
        "'city'\n",
        "'country'\n",
        "'timestamp' were not used for modelling\n",
        "\n",
        "This columns most of the they have single unique variables hence if we do one hot encoding it will bring bring 1000 rows with asingle variable hence it was not necessary to use them.\n",
        " "
      ]
    },
    {
      "cell_type": "code",
      "metadata": {
        "id": "ebqbDBM6fRSd",
        "colab_type": "code",
        "colab": {},
        "outputId": "35026306-a7b4-47d9-edc7-edd867f7ead2"
      },
      "source": [
        "# Making the data to be random ,we shuffle the rows before splitting\n",
        "\n",
        "rows <- sample(nrow(df1))\n",
        "\n",
        "df_shuffled <- df1[rows,]\n",
        "head(df_shuffled)[1:3,]"
      ],
      "execution_count": 0,
      "outputs": [
        {
          "output_type": "display_data",
          "data": {
            "text/html": [
              "<table>\n",
              "<thead><tr><th></th><th scope=col>daily.time.spent.on.site</th><th scope=col>age</th><th scope=col>area.income</th><th scope=col>male</th><th scope=col>clicked.on.ad</th></tr></thead>\n",
              "<tbody>\n",
              "\t<tr><th scope=row>62</th><td>85.84   </td><td>34      </td><td>64654.66</td><td>1       </td><td>0       </td></tr>\n",
              "\t<tr><th scope=row>917</th><td>54.96   </td><td>42      </td><td>59419.78</td><td>1       </td><td>1       </td></tr>\n",
              "\t<tr><th scope=row>554</th><td>44.73   </td><td>35      </td><td>55316.97</td><td>1       </td><td>1       </td></tr>\n",
              "</tbody>\n",
              "</table>\n"
            ],
            "text/latex": "\\begin{tabular}{r|lllll}\n  & daily.time.spent.on.site & age & area.income & male & clicked.on.ad\\\\\n\\hline\n\t62 & 85.84    & 34       & 64654.66 & 1        & 0       \\\\\n\t917 & 54.96    & 42       & 59419.78 & 1        & 1       \\\\\n\t554 & 44.73    & 35       & 55316.97 & 1        & 1       \\\\\n\\end{tabular}\n",
            "text/markdown": "\n| <!--/--> | daily.time.spent.on.site | age | area.income | male | clicked.on.ad |\n|---|---|---|---|---|---|\n| 62 | 85.84    | 34       | 64654.66 | 1        | 0        |\n| 917 | 54.96    | 42       | 59419.78 | 1        | 1        |\n| 554 | 44.73    | 35       | 55316.97 | 1        | 1        |\n\n",
            "text/plain": [
              "    daily.time.spent.on.site age area.income male clicked.on.ad\n",
              "62  85.84                    34  64654.66    1    0            \n",
              "917 54.96                    42  59419.78    1    1            \n",
              "554 44.73                    35  55316.97    1    1            "
            ]
          },
          "metadata": {
            "tags": []
          }
        }
      ]
    },
    {
      "cell_type": "markdown",
      "metadata": {
        "id": "R1LgtiP0fRSh",
        "colab_type": "text"
      },
      "source": [
        "As we can see the rows are clearly shuffled to avoid overfitting\n"
      ]
    },
    {
      "cell_type": "code",
      "metadata": {
        "id": "Q0P2bBFifRSi",
        "colab_type": "code",
        "colab": {}
      },
      "source": [
        "# Splitting the dataset using caret package\n",
        "\n",
        "set.seed(100)\n",
        "\n",
        "index <- createDataPartition(df_shuffled$clicked.on.ad,p=0.8,list=F)\n",
        "\n",
        "testing  <-  df_shuffled[-index,]\n",
        "training <- df_shuffled[index,]\n",
        "\n",
        "x_train = scale(training[,1:4])\n",
        "x_test = scale(testing[,1:4])\n",
        "y_train = training[,5]\n",
        "y_test = testing[,5]"
      ],
      "execution_count": 0,
      "outputs": []
    },
    {
      "cell_type": "markdown",
      "metadata": {
        "id": "7paQsEaqnCfU",
        "colab_type": "text"
      },
      "source": [
        "Splitting to training set and test set"
      ]
    },
    {
      "cell_type": "code",
      "metadata": {
        "id": "uCb7Ep6jfRSo",
        "colab_type": "code",
        "colab": {},
        "outputId": "901e3172-d171-42c4-f1bb-9b6cf6bf73da"
      },
      "source": [
        "# This is alist of some of the available models\n",
        "\n",
        "paste(names(getModelInfo())[1:50],collapse = \", \")"
      ],
      "execution_count": 0,
      "outputs": [
        {
          "output_type": "display_data",
          "data": {
            "text/html": [
              "'ada, AdaBag, AdaBoost.M1, adaboost, amdai, ANFIS, avNNet, awnb, awtan, bag, bagEarth, bagEarthGCV, bagFDA, bagFDAGCV, bam, bartMachine, bayesglm, binda, blackboost, blasso, blassoAveraged, bridge, brnn, BstLm, bstSm, bstTree, C5.0, C5.0Cost, C5.0Rules, C5.0Tree, cforest, chaid, CSimca, ctree, ctree2, cubist, dda, deepboost, DENFIS, dnn, dwdLinear, dwdPoly, dwdRadial, earth, elm, enet, evtree, extraTrees, fda, FH.GBML'"
            ],
            "text/latex": "'ada, AdaBag, AdaBoost.M1, adaboost, amdai, ANFIS, avNNet, awnb, awtan, bag, bagEarth, bagEarthGCV, bagFDA, bagFDAGCV, bam, bartMachine, bayesglm, binda, blackboost, blasso, blassoAveraged, bridge, brnn, BstLm, bstSm, bstTree, C5.0, C5.0Cost, C5.0Rules, C5.0Tree, cforest, chaid, CSimca, ctree, ctree2, cubist, dda, deepboost, DENFIS, dnn, dwdLinear, dwdPoly, dwdRadial, earth, elm, enet, evtree, extraTrees, fda, FH.GBML'",
            "text/markdown": "'ada, AdaBag, AdaBoost.M1, adaboost, amdai, ANFIS, avNNet, awnb, awtan, bag, bagEarth, bagEarthGCV, bagFDA, bagFDAGCV, bam, bartMachine, bayesglm, binda, blackboost, blasso, blassoAveraged, bridge, brnn, BstLm, bstSm, bstTree, C5.0, C5.0Cost, C5.0Rules, C5.0Tree, cforest, chaid, CSimca, ctree, ctree2, cubist, dda, deepboost, DENFIS, dnn, dwdLinear, dwdPoly, dwdRadial, earth, elm, enet, evtree, extraTrees, fda, FH.GBML'",
            "text/plain": [
              "[1] \"ada, AdaBag, AdaBoost.M1, adaboost, amdai, ANFIS, avNNet, awnb, awtan, bag, bagEarth, bagEarthGCV, bagFDA, bagFDAGCV, bam, bartMachine, bayesglm, binda, blackboost, blasso, blassoAveraged, bridge, brnn, BstLm, bstSm, bstTree, C5.0, C5.0Cost, C5.0Rules, C5.0Tree, cforest, chaid, CSimca, ctree, ctree2, cubist, dda, deepboost, DENFIS, dnn, dwdLinear, dwdPoly, dwdRadial, earth, elm, enet, evtree, extraTrees, fda, FH.GBML\""
            ]
          },
          "metadata": {
            "tags": []
          }
        }
      ]
    },
    {
      "cell_type": "markdown",
      "metadata": {
        "id": "GiXQWZggfRSt",
        "colab_type": "text"
      },
      "source": [
        "# KNN Classification"
      ]
    },
    {
      "cell_type": "code",
      "metadata": {
        "id": "BRSMHfFXfRSu",
        "colab_type": "code",
        "colab": {},
        "outputId": "3235f394-0fa7-49b2-d9ae-a3ed9560dfd1"
      },
      "source": [
        "#Using knn to to this classification problem\n",
        "\n",
        "ypred <- knn(train = x_train, test = x_test,\n",
        "                      cl = y_train, k = 21)\n",
        " \n",
        " # Evaluating perfomance using crosstable\n",
        " \n",
        "CrossTable(x = y_test, y = ypred,\n",
        "           prop.chisq = FALSE)"
      ],
      "execution_count": 0,
      "outputs": [
        {
          "output_type": "stream",
          "text": [
            "\n",
            " \n",
            "   Cell Contents\n",
            "|-------------------------|\n",
            "|                       N |\n",
            "|           N / Row Total |\n",
            "|           N / Col Total |\n",
            "|         N / Table Total |\n",
            "|-------------------------|\n",
            "\n",
            " \n",
            "Total Observations in Table:  200 \n",
            "\n",
            " \n",
            "             | ypred \n",
            "      y_test |         0 |         1 | Row Total | \n",
            "-------------|-----------|-----------|-----------|\n",
            "           0 |        98 |         2 |       100 | \n",
            "             |     0.980 |     0.020 |     0.500 | \n",
            "             |     0.899 |     0.022 |           | \n",
            "             |     0.490 |     0.010 |           | \n",
            "-------------|-----------|-----------|-----------|\n",
            "           1 |        11 |        89 |       100 | \n",
            "             |     0.110 |     0.890 |     0.500 | \n",
            "             |     0.101 |     0.978 |           | \n",
            "             |     0.055 |     0.445 |           | \n",
            "-------------|-----------|-----------|-----------|\n",
            "Column Total |       109 |        91 |       200 | \n",
            "             |     0.545 |     0.455 |           | \n",
            "-------------|-----------|-----------|-----------|\n",
            "\n",
            " \n"
          ],
          "name": "stdout"
        }
      ]
    },
    {
      "cell_type": "markdown",
      "metadata": {
        "id": "IZKUzC_6njOp",
        "colab_type": "text"
      },
      "source": [
        "This shows that that it classified 98 correcly and 2 wrongly in the 0 label\n",
        "\n",
        "This shows that that it classified 89 correcly and 11 wrongly in the 1 label\n",
        "\n",
        "The total predictions were 200\n",
        "\n"
      ]
    },
    {
      "cell_type": "code",
      "metadata": {
        "id": "-NgvEDEdfRSw",
        "colab_type": "code",
        "colab": {},
        "outputId": "fa2d34ad-9ebe-4bff-8560-6298bbf9322c"
      },
      "source": [
        "# Confusion matrix\n",
        "\n",
        "table(y_test,ypred)"
      ],
      "execution_count": 0,
      "outputs": [
        {
          "output_type": "display_data",
          "data": {
            "text/plain": [
              "      ypred\n",
              "y_test  0  1\n",
              "     0 98  2\n",
              "     1 11 89"
            ]
          },
          "metadata": {
            "tags": []
          }
        }
      ]
    },
    {
      "cell_type": "markdown",
      "metadata": {
        "id": "CuW-B231oNrT",
        "colab_type": "text"
      },
      "source": [
        "The information in crosstable is well simplified in the confusion matrix"
      ]
    },
    {
      "cell_type": "code",
      "metadata": {
        "id": "hMMp3XwRfRSy",
        "colab_type": "code",
        "colab": {},
        "outputId": "2e0a6572-0412-495c-fd1e-cfa3a341a835"
      },
      "source": [
        "# The accuracy\n",
        "\n",
        "print(mean(y_test == ypred ))"
      ],
      "execution_count": 0,
      "outputs": [
        {
          "output_type": "stream",
          "text": [
            "[1] 0.935\n"
          ],
          "name": "stdout"
        }
      ]
    },
    {
      "cell_type": "markdown",
      "metadata": {
        "id": "rfeOC1v4oYZl",
        "colab_type": "text"
      },
      "source": [
        "We have an accuracy of 93.5% with 21 neighbours"
      ]
    },
    {
      "cell_type": "markdown",
      "metadata": {
        "id": "vYiHjl-LokXS",
        "colab_type": "text"
      },
      "source": [
        "# Conclusion"
      ]
    },
    {
      "cell_type": "markdown",
      "metadata": {
        "id": "4gpYUBVYoou7",
        "colab_type": "text"
      },
      "source": [
        "The anlysis modelling and evaluation was a success with 93.5% Accuracy which quite high"
      ]
    }
  ]
}